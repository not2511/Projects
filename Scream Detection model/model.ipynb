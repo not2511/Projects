{
 "cells": [
  {
   "cell_type": "code",
   "execution_count": 4,
   "id": "39d8cc62",
   "metadata": {},
   "outputs": [
    {
     "name": "stderr",
     "output_type": "stream",
     "text": [
      "c:\\Users\\Ranjot\\AppData\\Local\\Programs\\Python\\Python311\\Lib\\site-packages\\torch\\utils\\_pytree.py:185: FutureWarning: optree is installed but the version is too old to support PyTorch Dynamo in C++ pytree. C++ pytree support is disabled. Please consider upgrading optree using `python3 -m pip install --upgrade 'optree>=0.13.0'`.\n",
      "  warnings.warn(\n"
     ]
    }
   ],
   "source": [
    "import os\n",
    "import librosa\n",
    "import numpy as np\n",
    "import torch\n",
    "import pandas as pd\n",
    "from tqdm import tqdm"
   ]
  },
  {
   "cell_type": "code",
   "execution_count": 5,
   "id": "77867eda",
   "metadata": {},
   "outputs": [],
   "source": [
    "csv_path = 'scream_dataset/metadata.csv'\n",
    "audio_dir = 'scream_dataset/audio'\n",
    "output_dir = 'scream_dataset/logmel_tensors'\n",
    "os.makedirs(output_dir, exist_ok=True)"
   ]
  },
  {
   "cell_type": "code",
   "execution_count": 6,
   "id": "eebc97dc",
   "metadata": {},
   "outputs": [],
   "source": [
    "sr = 16000\n",
    "n_mels = 64\n",
    "duration = 10\n",
    "samples = sr * duration"
   ]
  },
  {
   "cell_type": "code",
   "execution_count": 7,
   "id": "5a2fd115",
   "metadata": {},
   "outputs": [],
   "source": [
    "df = pd.read_csv(csv_path)"
   ]
  },
  {
   "cell_type": "code",
   "execution_count": 9,
   "id": "02b5c724",
   "metadata": {},
   "outputs": [
    {
     "name": "stderr",
     "output_type": "stream",
     "text": [
      "100%|██████████| 143/143 [00:02<00:00, 55.67it/s]\n"
     ]
    }
   ],
   "source": [
    "#Processing\n",
    "for _, row in tqdm(df.iterrows(), total=len(df)):\n",
    "    file_path = os.path.join(audio_dir, row['filename'])\n",
    "    label = 1 if row['label'] == 'scream' else 0\n",
    "\n",
    "    # Load + trim/pad\n",
    "    y, _ = librosa.load(file_path, sr=sr)\n",
    "    if len(y) > samples:\n",
    "        y = y[:samples]\n",
    "    else:\n",
    "        y = np.pad(y, (0, max(0, samples - len(y))))\n",
    "\n",
    "    # Mel spectrogram\n",
    "    mel_spec = librosa.feature.melspectrogram(y=y, sr=sr, n_mels=n_mels)\n",
    "    logmel = librosa.power_to_db(mel_spec)\n",
    "\n",
    "    # Saving as tensor\n",
    "    tensor = torch.tensor(logmel).unsqueeze(0)  # shape: [1, n_mels, time]\n",
    "    out_file = os.path.join(output_dir, row['filename'].replace('.wav', '.pt'))\n",
    "    torch.save({'features': tensor, 'label': label}, out_file)"
   ]
  },
  {
   "cell_type": "code",
   "execution_count": 10,
   "id": "6c29a018",
   "metadata": {},
   "outputs": [],
   "source": [
    "from torch.utils.data import Dataset, DataLoader\n",
    "import os\n",
    "class ScreamDataset(Dataset):\n",
    "    def __init__(self, folder):\n",
    "        self.folder = folder\n",
    "        self.files = [f for f in os.listdir(folder) if f.endswith('.pt')]\n",
    "\n",
    "    def __len__(self):\n",
    "        return len(self.files)\n",
    "\n",
    "    def __getitem__(self, idx):\n",
    "        item = torch.load(os.path.join(self.folder, self.files[idx]))\n",
    "        return item['features'], torch.tensor(item['label'], dtype=torch.long)\n",
    "\n",
    "# Load dataset\n",
    "dataset = ScreamDataset('scream_dataset/logmel_tensors')\n",
    "\n",
    "# Split into train/test\n",
    "train_size = int(0.8 * len(dataset))\n",
    "test_size = len(dataset) - train_size\n",
    "train_set, test_set = torch.utils.data.random_split(dataset, [train_size, test_size])\n",
    "\n",
    "# Dataloaders\n",
    "train_loader = DataLoader(train_set, batch_size=16, shuffle=True)\n",
    "test_loader = DataLoader(test_set, batch_size=16)"
   ]
  },
  {
   "cell_type": "code",
   "execution_count": 13,
   "id": "9c99b87a",
   "metadata": {},
   "outputs": [],
   "source": [
    "# Model (VGG-style mini network)\n",
    "import torch.nn as nn\n",
    "import torch.nn.functional as F\n",
    "\n",
    "class ScreamCNN(nn.Module):\n",
    "    def __init__(self):\n",
    "        super(ScreamCNN, self).__init__()\n",
    "        self.conv1 = nn.Conv2d(1, 16, kernel_size=3, padding=1)\n",
    "        self.pool = nn.MaxPool2d(2, 2)\n",
    "        self.conv2 = nn.Conv2d(16, 32, kernel_size=3, padding=1)\n",
    "        self.fc1 = nn.Linear(39936, 128)  # got from error\n",
    "        self.fc2 = nn.Linear(128, 2)\n",
    "\n",
    "    def forward(self, x):\n",
    "        x = self.pool(F.relu(self.conv1(x)))   # [B, 16, H/2, W/2]\n",
    "        x = self.pool(F.relu(self.conv2(x)))   # [B, 32, H/4, W/4]\n",
    "        x = x.view(x.size(0), -1)              # flatten\n",
    "        x = F.relu(self.fc1(x))\n",
    "        x = self.fc2(x)\n",
    "        return x"
   ]
  },
  {
   "cell_type": "code",
   "execution_count": 14,
   "id": "820a8fda",
   "metadata": {},
   "outputs": [
    {
     "name": "stdout",
     "output_type": "stream",
     "text": [
      "Epoch 1 | Loss: 42.6879\n",
      "Epoch 2 | Loss: 2.3397\n",
      "Epoch 3 | Loss: 0.5971\n",
      "Epoch 4 | Loss: 0.3160\n",
      "Epoch 5 | Loss: 0.0008\n",
      "Epoch 6 | Loss: 0.0008\n",
      "Epoch 7 | Loss: 0.0000\n",
      "Epoch 8 | Loss: 0.0000\n",
      "Epoch 9 | Loss: 0.0000\n",
      "Epoch 10 | Loss: 0.0000\n"
     ]
    }
   ],
   "source": [
    "#Training loop\n",
    "device = torch.device('cuda' if torch.cuda.is_available() else 'cpu')\n",
    "model = ScreamCNN().to(device)\n",
    "\n",
    "optimizer = torch.optim.Adam(model.parameters(), lr=0.001)\n",
    "criterion = nn.CrossEntropyLoss()\n",
    "\n",
    "# Training\n",
    "for epoch in range(10):\n",
    "    model.train()\n",
    "    total_loss = 0\n",
    "    for inputs, labels in train_loader:\n",
    "        inputs, labels = inputs.to(device), labels.to(device)\n",
    "\n",
    "        optimizer.zero_grad()\n",
    "        outputs = model(inputs)\n",
    "        loss = criterion(outputs, labels)\n",
    "        loss.backward()\n",
    "        optimizer.step()\n",
    "        total_loss += loss.item()\n",
    "\n",
    "    print(f\"Epoch {epoch+1} | Loss: {total_loss/len(train_loader):.4f}\")\n"
   ]
  },
  {
   "cell_type": "code",
   "execution_count": 15,
   "id": "c0502fef",
   "metadata": {},
   "outputs": [
    {
     "name": "stdout",
     "output_type": "stream",
     "text": [
      "Test Accuracy: 96.55%\n"
     ]
    }
   ],
   "source": [
    "# Evaluation\n",
    "from sklearn.metrics import accuracy_score\n",
    "model.eval()\n",
    "\n",
    "all_preds = []\n",
    "all_labels = []\n",
    "\n",
    "with torch.no_grad():\n",
    "    for inputs, labels in test_loader:\n",
    "        inputs, labels = inputs.to(device), labels.to(device)\n",
    "        outputs = model(inputs)\n",
    "        preds = torch.argmax(outputs, dim=1)\n",
    "\n",
    "        all_preds.extend(preds.cpu().numpy())\n",
    "        all_labels.extend(labels.cpu().numpy())\n",
    "\n",
    "accuracy = accuracy_score(all_labels, all_preds)\n",
    "print(f\"Test Accuracy: {accuracy * 100:.2f}%\")\n"
   ]
  },
  {
   "cell_type": "code",
   "execution_count": 16,
   "id": "1e2633bd",
   "metadata": {},
   "outputs": [
    {
     "name": "stdout",
     "output_type": "stream",
     "text": [
      "Model saved as scream_cnn_model.pth\n"
     ]
    }
   ],
   "source": [
    "# Saving the mode\n",
    "torch.save(model.state_dict(), \"scream_cnn_model.pth\")\n",
    "print(\"Model saved as scream_cnn_model.pth\")\n"
   ]
  },
  {
   "cell_type": "code",
   "execution_count": null,
   "id": "9059c9b2",
   "metadata": {},
   "outputs": [],
   "source": []
  }
 ],
 "metadata": {
  "kernelspec": {
   "display_name": "Python 3",
   "language": "python",
   "name": "python3"
  },
  "language_info": {
   "codemirror_mode": {
    "name": "ipython",
    "version": 3
   },
   "file_extension": ".py",
   "mimetype": "text/x-python",
   "name": "python",
   "nbconvert_exporter": "python",
   "pygments_lexer": "ipython3",
   "version": "3.11.5"
  }
 },
 "nbformat": 4,
 "nbformat_minor": 5
}
