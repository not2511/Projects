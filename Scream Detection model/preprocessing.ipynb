{
 "cells": [
  {
   "cell_type": "code",
   "execution_count": 1,
   "id": "23f8e96b",
   "metadata": {},
   "outputs": [],
   "source": [
    "import os\n",
    "import librosa\n",
    "import soundfile as sf\n",
    "from tqdm import tqdm\n"
   ]
  },
  {
   "cell_type": "code",
   "execution_count": 2,
   "id": "e5cd9001",
   "metadata": {},
   "outputs": [],
   "source": [
    "input_dir = 'scream_data'\n",
    "output_dir = 'scream_data_processed'\n",
    "os.makedirs(output_dir, exist_ok=True)"
   ]
  },
  {
   "cell_type": "code",
   "execution_count": 3,
   "id": "74290294",
   "metadata": {},
   "outputs": [
    {
     "name": "stderr",
     "output_type": "stream",
     "text": [
      "100%|██████████| 72/72 [00:20<00:00,  3.52it/s]\n"
     ]
    }
   ],
   "source": [
    "### mono and 16kHz data will be stored in scream_data_processed\n",
    "for filename in tqdm(os.listdir(input_dir)):\n",
    "    if filename.endswith('.wav'):\n",
    "        input_path = os.path.join(input_dir, filename)\n",
    "        output_path = os.path.join(output_dir, filename)\n",
    "\n",
    "        try:\n",
    "            audio, sr = librosa.load(input_path, sr=16000, mono=True)\n",
    "            sf.write(output_path, audio, sr)\n",
    "        except Exception as e:\n",
    "            print(f\"Failed to process {filename}: {e}\")"
   ]
  },
  {
   "cell_type": "code",
   "execution_count": 4,
   "id": "1dc231c4",
   "metadata": {},
   "outputs": [
    {
     "name": "stderr",
     "output_type": "stream",
     "text": [
      "100%|██████████| 71/71 [00:00<00:00, 74.29it/s]\n"
     ]
    }
   ],
   "source": [
    "# same for non scream data\n",
    "input_dir = 'non_scream_data'\n",
    "output_dir = 'non_scream_data_processed'\n",
    "os.makedirs(output_dir, exist_ok=True)\n",
    "\n",
    "for filename in tqdm(os.listdir(input_dir)):\n",
    "    if filename.endswith('.wav'):\n",
    "        input_path = os.path.join(input_dir, filename)\n",
    "        output_path = os.path.join(output_dir, filename)\n",
    "\n",
    "        try:\n",
    "            audio, sr = librosa.load(input_path, sr=16000, mono=True)\n",
    "            sf.write(output_path, audio, sr)\n",
    "        except Exception as e:\n",
    "            print(f\"Failed to process {filename}: {e}\")"
   ]
  },
  {
   "cell_type": "code",
   "execution_count": 5,
   "id": "be8ddec5",
   "metadata": {},
   "outputs": [
    {
     "name": "stdout",
     "output_type": "stream",
     "text": [
      "Done, data is ready in scream_dataset/\n"
     ]
    }
   ],
   "source": [
    "import shutil\n",
    "import pandas as pd\n",
    "\n",
    "# Input folders\n",
    "scream_dir = 'scream_data_processed'\n",
    "non_scream_dir = 'non_scream_data_processed'\n",
    "\n",
    "# Output folder\n",
    "output_audio_dir = 'scream_dataset/audio'\n",
    "os.makedirs(output_audio_dir, exist_ok=True)\n",
    "\n",
    "metadata = []\n",
    "\n",
    "# Copy scream files\n",
    "for fname in os.listdir(scream_dir):\n",
    "    if fname.endswith('.wav'):\n",
    "        src = os.path.join(scream_dir, fname)\n",
    "        dst = os.path.join(output_audio_dir, fname)\n",
    "        shutil.copy(src, dst)\n",
    "        metadata.append({'filename': fname, 'label': 'scream'})\n",
    "\n",
    "# Copy non-scream files\n",
    "for fname in os.listdir(non_scream_dir):\n",
    "    if fname.endswith('.wav'):\n",
    "        src = os.path.join(non_scream_dir, fname)\n",
    "        dst = os.path.join(output_audio_dir, fname)\n",
    "        shutil.copy(src, dst)\n",
    "        metadata.append({'filename': fname, 'label': 'non_scream'})\n",
    "\n",
    "# Save metadata CSV\n",
    "df = pd.DataFrame(metadata)\n",
    "df.to_csv('scream_dataset/metadata.csv', index=False)\n",
    "\n",
    "print(\"Done, data is ready in scream_dataset/\")\n"
   ]
  },
  {
   "cell_type": "code",
   "execution_count": null,
   "id": "5791ca8f",
   "metadata": {},
   "outputs": [],
   "source": []
  }
 ],
 "metadata": {
  "kernelspec": {
   "display_name": "Python 3",
   "language": "python",
   "name": "python3"
  },
  "language_info": {
   "codemirror_mode": {
    "name": "ipython",
    "version": 3
   },
   "file_extension": ".py",
   "mimetype": "text/x-python",
   "name": "python",
   "nbconvert_exporter": "python",
   "pygments_lexer": "ipython3",
   "version": "3.11.5"
  }
 },
 "nbformat": 4,
 "nbformat_minor": 5
}
